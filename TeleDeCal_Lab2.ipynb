{
 "cells": [
  {
   "cell_type": "code",
   "execution_count": null,
   "id": "16b319b5",
   "metadata": {},
   "outputs": [],
   "source": [
    "# RUN THIS CELL FIRST\n",
    "\n",
    "import matplotlib.pyplot as plt\n",
    "import numpy as np"
   ]
  },
  {
   "cell_type": "markdown",
   "id": "b90aa7d2",
   "metadata": {},
   "source": [
    "# We often use Jupyter Notebooks to make plots that simulate what is happening in the sky. Do not worry if you have never worked with Python before - all the code has been written for you."
   ]
  },
  {
   "cell_type": "markdown",
   "id": "6a04cc53",
   "metadata": {},
   "source": [
    "## As you know by now, the changes we see in stars' paths in the sky are due to the rotation of Earth beneath the Celestial Sphere. We will start off by mapping their apparent motion in the sky (aka their alt-az path) at our location. "
   ]
  },
  {
   "cell_type": "markdown",
   "id": "78ea7f19",
   "metadata": {},
   "source": [
    "### Below are sets of **lists** of empty tuples for each star. **Lists** are data structures used to store ordered collections of items, separated by commas. Tuples are similar but unchangeable. The alt and az given by your telescope will show something like $36^\\circ 54' 56 \"$. This mean 36 degrees, 54 arcminutes, 56 arcseconds. For each star, fill in the tuples in the lists with alt and az degrees, arcminutes, and arcseconds in chronological order, separated by commas.\n",
    "\n",
    "#### Example: alt = [(36, 54, 56), (37, 63, 35), (42, 65, 71), ...]\n"
   ]
  },
  {
   "cell_type": "code",
   "execution_count": null,
   "id": "49270e4c",
   "metadata": {},
   "outputs": [],
   "source": [
    "# Star 1\n",
    "\n",
    "# Enter in your collected alt values for Star 1\n",
    "alt_1 = [(, ,), (, , ), (, ,), (, ,), (, , ), (, , ),]\n",
    "# Enter in your collected az values for Star 1\n",
    "az_1  = [(, ,), (, , ), (, ,), (, ,), (, , ), (, , ),]\n",
    "\n",
    "# Star 2\n",
    "\n",
    "# Enter in your collected alt values for Star 2\n",
    "alt_2 = [(, ,), (, , ), (, ,), (, ,), (, , ), (, , ),]\n",
    "# Enter in your collected az values for Star 2\n",
    "az_2  = [(, ,), (, , ), (, ,), (, ,), (, , ), (, , ),]\n",
    "\n",
    "# Star 3\n",
    "\n",
    "# Enter in your collected alt values for Star 3\n",
    "alt_3 = [(, ,), (, , ), (, ,), (, ,), (, , ), (, , ),]\n",
    "# Enter in your collected az values for Star 3\n",
    "az_3  = [(, ,), (, , ), (, ,), (, ,), (, , ), (, , ),]\n",
    "\n",
    "# Star 4\n",
    "\n",
    "# Enter in your collected alt values for Star 4\n",
    "# alt_4 = [(, ,), (, , ), (, ,), (, ,), (, , ), (, , ),]\n",
    "# Enter in your collected az values for Star 4\n",
    "# az_4  = [(, ,), (, , ), (, ,), (, ,), (, , ), (, , ),]\n"
   ]
  },
  {
   "cell_type": "code",
   "execution_count": null,
   "id": "efc631e8",
   "metadata": {},
   "outputs": [],
   "source": [
    "def alt_az_deg(alt, az):\n",
    "    def dms_to_deg(dms):\n",
    "                deg, arcmin, arcsec = dms\n",
    "                sign = -1 if deg < 0 else 1\n",
    "                return sign * (abs(deg) + arcmin / 60.0 + arcsec / 3600.0)\n",
    "    \n",
    "    alt_deg = [dms_to_deg(a) for a in alt]\n",
    "    az_deg  = [dms_to_deg(a) for a in az]\n",
    "    return alt_deg, az_deg"
   ]
  },
  {
   "cell_type": "code",
   "execution_count": null,
   "id": "d198a584",
   "metadata": {},
   "outputs": [],
   "source": [
    "alt_1, az_1 = alt_az_deg(alt_1, az_1)\n",
    "alt_2, az_2 = alt_az_deg(alt_2, az_2)\n",
    "alt_3, az_3 = alt_az_deg(alt_3, az_3)\n",
    "# alt_4, az_4 = alt_az_deg(alt_4, az_4)\n"
   ]
  },
  {
   "cell_type": "code",
   "execution_count": null,
   "id": "fd6659c7",
   "metadata": {},
   "outputs": [],
   "source": [
    "def lst_to_radians(lst):\n",
    "    h, m, s = map(float, lst.split(':'))\n",
    "    lst_hours = h + m / 60.0 + s / 3600.0\n",
    "    radians = (lst_hours / 24.0) * 2 * np.pi\n",
    "    return radians"
   ]
  },
  {
   "cell_type": "code",
   "execution_count": null,
   "id": "f0fa7c94",
   "metadata": {},
   "outputs": [],
   "source": [
    "# input your LST here as a string in the format \"HH:MM:SS\"\n",
    "# example: LST = [\"20:00:00\", \"20:15:02\", \"20:30:05\", \"20:45:07\",\"21:00:10\",\"21:15:12\",\"21:30:15\",\"21:45:17\",\"22:00:20\", ...]\n",
    "\n",
    "LST = []\n",
    "\n",
    "\n",
    "LST_rad = [lst_to_radians(t) for t in lst_samples]\n"
   ]
  },
  {
   "cell_type": "code",
   "execution_count": null,
   "id": "6028e88a",
   "metadata": {},
   "outputs": [],
   "source": [
    "def r_theta(alt, az):\n",
    "    \"\"\"Convert alt-az coordinates to r-theta coordinates for polar plotting.\"\"\"\n",
    "    r = np.array(alt)\n",
    "    theta = np.deg2rad(np.array(az))\n",
    "    return theta, r"
   ]
  },
  {
   "cell_type": "code",
   "execution_count": null,
   "id": "b2efbed6",
   "metadata": {},
   "outputs": [],
   "source": [
    "fig = plt.figure(figsize=(6, 5), dpi=150)\n",
    "ax = fig.add_subplot(111, polar=True)\n",
    "\n",
    "coords_1 = r_theta(alt_1, az_1)\n",
    "coords_2 = r_theta(alt_2, az_2)\n",
    "coords_3 = r_theta(alt_3, az_3)\n",
    "# coords_4 = r_theta(alt_4, az_4)\n",
    "\n",
    "ax.set_theta_zero_location('N')\n",
    "ax.set_theta_direction(-1)\n",
    "\n",
    "ax.plot(coords_1[0], coords_1[1], marker='o')\n",
    "ax.plot(coords_2[0], coords_2[1], marker='o')\n",
    "ax.plot(coords_3[0], coords_3[1], marker='o')\n",
    "# ax.plot(coords_4[0], coords_4[1], marker='o')\n",
    "\n",
    "\n",
    "ax.set_rlim(90, 0)\n",
    "plt.show()\n"
   ]
  },
  {
   "cell_type": "markdown",
   "id": "f0eb6329",
   "metadata": {},
   "source": [
    "## Converting between altitude and azimuth to hour angle and declination\n",
    "### The rotation matrix in charge of this transformation only depends on the latitude of your location.\n",
    "\n",
    "You should know the coordinates of Campbell Hall: \\\n",
    "latitude: 37.87 N\\\n",
    "longitude: 122.25 W"
   ]
  },
  {
   "cell_type": "code",
   "execution_count": null,
   "id": "38d90c0e",
   "metadata": {},
   "outputs": [],
   "source": [
    "# This function converts from hour angle and declination to altitude and azimuth using a rotation matrix dependent on latitude\n",
    "# Feel free to save this function for future use! (If you are an astronomy student, you will likely need to use it again)\n",
    "\n",
    "def ha2top(lat):\n",
    "    \"(ha,dec) to (alt,az)\"\n",
    "    rot_mat = np.array([\n",
    "        [-np.sin(lat), 0, np.cos(lat)],\n",
    "        [0          , -1,           0],\n",
    "        [ np.cos(lat), 0, np.sin(lat)],\n",
    "    ])\n",
    "    return rot_mat\n",
    "\n",
    "# This function creates a rotation matrix to convert from right ascension and declination to hour angle and declination.\n",
    "\n",
    "def ra2ha(LST):\n",
    "    \"(ra,dec) to (ha,dec)\"\n",
    "    ones = np.ones_like(LST)\n",
    "    rot_mat = np.array([\n",
    "        [np.cos(LST), np.sin(LST), 0*ones],\n",
    "        [-np.sin(LST), np.cos(LST), 0*ones],\n",
    "        [ 0*ones, 0*ones, 1*ones],\n",
    "    ])\n",
    "    return rot_mat\n",
    "\n",
    "\n",
    "\n",
    "# This function creates a vector of topological coordinates for a single alt/az point.\n",
    "# A vector is a mathematical object that represents a quantity with both magnitude and direction, \n",
    "# often written as a list of numbers (its components) that describe how far it points along each \n",
    "# coordinate axis in space. (You don't need to worry about this)\n",
    "\n",
    "def vec_top(alt, az):\n",
    "    v = np.array([np.cos(alt)*np.cos(az),\n",
    "                    np.cos(alt)*np.sin(az),\n",
    "                    np.sin(alt)])\n",
    "    return v\n",
    "\n",
    "# Make sure to run this cell before the next one"
   ]
  },
  {
   "cell_type": "code",
   "execution_count": null,
   "id": "b5e483f3",
   "metadata": {},
   "outputs": [],
   "source": [
    "\n",
    "LAT =  # Define your latitude here\n",
    "\n",
    "\n",
    "# Trigonometric functions in numpy only take in radians, so we convert degrees to radians\n",
    "\n",
    "LAT_rad = np.deg2rad(LAT)\n",
    "\n",
    "\n",
    "# Here we create the rotation matrix that will be used to convert between (ha,dec) and (alt,az) by calling the function defined above\n",
    "R1 = ha2top(LAT_rad)\n",
    "\n",
    "# Here we create a topological vector for each alt/az point by passing in our lists of alt and az for a single star. I'll get you started.\n",
    "vtop_1 = vec_top(np.deg2rad(alt_1), np.deg2rad(az_1))\n",
    "\n",
    "# To transform from topological coords to hour angle and declination, we multiply our vecotor with the transpose of our rotation matrix. This is essentially \n",
    "# multiplying by the inverse of the rotation matrix since it transforms from Ha, dec to alt and az. Again, no need to worry about the linear algebra \n",
    "# for this class.\n",
    "\n",
    "vha_1 = R1.T @ vtop_1\n",
    "\n",
    "\n",
    "Ha_1 = np.arctan2(vha_1[1], vha_1[0])\n",
    "dec_1 = np.arcsin(vha_1[2]) "
   ]
  },
  {
   "cell_type": "code",
   "execution_count": null,
   "id": "045bde2c",
   "metadata": {},
   "outputs": [],
   "source": [
    "# Since we are going to want to compute the Ha and Dec for each star, we will wrap this process in a function for repeated use.\n",
    "\n",
    "def Ha_Dec(alt, az, lat):\n",
    "    R = ha2top(np.deg2rad(lat))\n",
    "    vtop = vec_top(np.deg2rad(alt), np.deg2rad(az))\n",
    "    vha = R.T @ vtop\n",
    "    return np.arctan2(vha[1], vha[0]), np.arcsin(vha[2]) \n",
    "    \n"
   ]
  },
  {
   "cell_type": "code",
   "execution_count": null,
   "id": "672a2afc",
   "metadata": {},
   "outputs": [],
   "source": [
    "star_1_Ha, star_1_dec = Ha_Dec(alt_1, az_1, LAT)\n",
    "star_2_Ha, star_2_dec = Ha_Dec(alt_2, az_2, LAT)\n",
    "star_3_Ha, star_3_dec = Ha_Dec(alt_3, az_3, LAT)\n",
    "# star_4_Ha, star_4_dec = Ha_Dec(alt_4, az_4, LAT)"
   ]
  },
  {
   "cell_type": "markdown",
   "id": "c5cea781",
   "metadata": {},
   "source": [
    "## Converting between hour angle and declination to right ascension and declination\n",
    "### The rotation matrix in charge of this transformation only depends on the local sidereal time of your observations."
   ]
  },
  {
   "cell_type": "code",
   "execution_count": null,
   "id": "079140f5",
   "metadata": {},
   "outputs": [],
   "source": [
    "# Now we repeat the above steps to transform from hour angle and declination to right ascension and declination\n",
    "\n",
    "R2 = ra2ha(LST_rad)\n",
    "ra_dec_1 = np.einsum('jik,ik->jk',R2,vha_1)\n",
    "ra_1 = np.rad2deg(np.arctan2(ra_dec_1[1], ra_dec_1[0]))\n",
    "dec_1 = np.rad2deg(np.arcsin(ra_dec_1[2]))\n"
   ]
  },
  {
   "cell_type": "code",
   "execution_count": null,
   "id": "2972e980",
   "metadata": {},
   "outputs": [],
   "source": [
    "# Lets put this in a function too\n",
    "\n",
    "def Ra_Dec(alt, az, lst, lat):\n",
    "    R1 = ha2top(np.deg2rad(lat))\n",
    "    R2 = ra2ha(lst)\n",
    "    vtop = vec_top(np.deg2rad(alt), np.deg2rad(az))\n",
    "    vha = R1.T @ vtop\n",
    "    ra_dec = np.einsum('jik,ik->jk',R2,vha)\n",
    "    return np.arctan2(ra_dec[1], ra_dec[0]), np.arcsin(ra_dec[2]) "
   ]
  },
  {
   "cell_type": "code",
   "execution_count": null,
   "id": "f023ab30",
   "metadata": {},
   "outputs": [],
   "source": [
    "star_1_Ra, star_1_dec = Ra_Dec(alt_1, az_1, LST_rad, LAT)\n",
    "star_2_Ra, star_2_dec = Ra_Dec(alt_2, az_2, LST_rad, LAT)\n",
    "star_3_Ra, star_3_dec = Ra_Dec(alt_3, az_3, LST_rad, LAT)\n",
    "# star_4_Ra, star_4_dec = Ra_Dec(alt_4, az_4, LST_rad, LAT)"
   ]
  },
  {
   "cell_type": "markdown",
   "id": "fa3d7307",
   "metadata": {},
   "source": [
    "# Plots plots plots!"
   ]
  },
  {
   "cell_type": "code",
   "execution_count": null,
   "id": "250887fc",
   "metadata": {},
   "outputs": [],
   "source": [
    "fig = plt.figure(figsize=(6, 5), dpi=150)\n",
    "gs = fig.add_gridspec(1, hspace=0)\n",
    "ax = fig.add_subplot(gs[:])\n",
    "\n",
    "ax.plot(az_1, alt_1, label='Star 1')\n",
    "ax.plot(az_2, alt_2, label='Star 2')\n",
    "ax.plot(az_3, alt_3, label='Star 3')\n",
    "# ax.plot(alt_4, az_4, label='Star 4')\n",
    "\n",
    "ax.set_xlabel('Azimuth', fontsize=10)\n",
    "ax.set_ylabel('Altitude', fontsize=10)\n",
    "\n",
    "ax.grid(True, linestyle=\"--\", linewidth=0.5, alpha=0.7, zorder=1)\n",
    "\n",
    "ax.legend(title='Stars', frameon=True, shadow=True, loc=\"best\")\n"
   ]
  },
  {
   "cell_type": "code",
   "execution_count": null,
   "id": "7a36f396",
   "metadata": {},
   "outputs": [],
   "source": [
    "fig = plt.figure(figsize=(6, 5), dpi=150)\n",
    "gs = fig.add_gridspec(1, hspace=0)\n",
    "ax = fig.add_subplot(gs[:])\n",
    "\n",
    "ax.plot(np.rad2deg(star_1_Ha), np.rad2deg(star_1_dec), label='Star 1')\n",
    "ax.plot(np.rad2deg(star_2_Ha), np.rad2deg(star_2_dec), label='Star 2')\n",
    "ax.plot(np.rad2deg(star_3_Ha), np.rad2deg(star_3_dec), label='Star 3')\n",
    "# ax.plot(np.rad2deg(star_4_Ha), np.rad2deg(star_4_dec), label='Star 4')\n",
    "\n",
    "ax.set_xlabel('Hour Angle', fontsize=10)\n",
    "ax.set_ylabel('Declination', fontsize=10)\n",
    "\n",
    "ax.grid(True, linestyle=\"--\", linewidth=0.5, alpha=0.7, zorder=1)\n",
    "\n",
    "ax.legend(title='Stars', frameon=True, shadow=True, loc=\"best\")\n"
   ]
  },
  {
   "cell_type": "code",
   "execution_count": null,
   "id": "36b434fc",
   "metadata": {},
   "outputs": [],
   "source": [
    "fig = plt.figure(figsize=(6, 5), dpi=150)\n",
    "gs = fig.add_gridspec(1, hspace=0)\n",
    "ax = fig.add_subplot(gs[:])\n",
    "\n",
    "ax.plot(np.rad2deg(star_1_Ha), np.rad2deg(star_1_Ra), label='Star 1')\n",
    "ax.plot(np.rad2deg(star_2_Ha), np.rad2deg(star_2_Ra), label='Star 2')\n",
    "ax.plot(np.rad2deg(star_3_Ha), np.rad2deg(star_3_Ra), label='Star 3')\n",
    "# ax.plot(np.rad2deg(star_4_Ha), np.rad2deg(star_4_Ra), label='Star 4')\n",
    "\n",
    "ax.set_xlabel('Hour Angle', fontsize=10)\n",
    "ax.set_ylabel('Right Ascension', fontsize=10)\n",
    "\n",
    "ax.grid(True, linestyle=\"--\", linewidth=0.5, alpha=0.7, zorder=1)\n",
    "\n",
    "ax.legend(title='Stars', frameon=True, shadow=True, loc=\"best\")"
   ]
  },
  {
   "cell_type": "code",
   "execution_count": null,
   "id": "1612d499",
   "metadata": {},
   "outputs": [],
   "source": [
    "fig = plt.figure(figsize=(6, 5), dpi=150)\n",
    "gs = fig.add_gridspec(1, hspace=0)\n",
    "ax = fig.add_subplot(gs[:])\n",
    "\n",
    "ax.scatter(np.rad2deg(star_1_Ra), np.rad2deg(star_1_dec))\n",
    "ax.scatter(np.rad2deg(star_1_Ra.mean()), np.rad2deg(star_1_dec.mean()), label='Star 1')\n",
    "\n",
    "ax.scatter(np.rad2deg(star_2_Ra),  np.rad2deg(star_2_dec))\n",
    "ax.scatter(np.rad2deg(star_2_Ra.mean()), np.rad2deg(star_2_dec.mean()), label='Star 2')\n",
    "\n",
    "ax.scatter(np.rad2deg(star_3_Ra), np.rad2deg(star_3_dec))\n",
    "ax.scatter(np.rad2deg(star_3_Ra.mean()), np.rad2deg(star_3_dec.mean()), label='Star 3')\n",
    "\n",
    "# ax.plot(np.rad2deg(star_4_Ra), np.rad2deg(star_4_dec))\n",
    "# ax.plot(np.rad2deg(star_4_Ra.mean()), np.rad2deg(star_4_dec.mean()), label='Star 4')\n",
    "\n",
    "ax.set_xlabel('Right Ascension', fontsize=10)\n",
    "ax.set_ylabel('Declination', fontsize=10)\n",
    "\n",
    "ax.grid(True, linestyle=\"--\", linewidth=0.5, alpha=0.7, zorder=1)\n",
    "\n",
    "ax.legend(title='Stars', frameon=True, shadow=True, loc=\"best\")\n"
   ]
  },
  {
   "cell_type": "code",
   "execution_count": null,
   "id": "e35fa3dc",
   "metadata": {},
   "outputs": [],
   "source": [
    "fig = plt.figure(figsize=(6, 5), dpi=150)\n",
    "gs = fig.add_gridspec(1, hspace=0)\n",
    "ax = fig.add_subplot(gs[:])\n",
    "\n",
    "ax.scatter(LST_rad, alt_1, s=5, label='Star 1')\n",
    "ax.scatter(LST_rad, alt_2, s=5, label='Star 2')\n",
    "ax.scatter(LST_rad, alt_3, s=5, label='Star 3')\n",
    "# ax.scatter(LST_rad, alt_4, s=5, label='Star 4')\n",
    "\n",
    "\n",
    "ax.set_xlabel('Local Sidereal Time', fontsize=10)\n",
    "ax.set_ylabel('Altitude', fontsize=10)\n",
    "\n",
    "ax.grid(True, linestyle=\"--\", linewidth=0.5, alpha=0.7, zorder=1)\n",
    "\n",
    "ax.legend(title='Stars', frameon=True, shadow=True, loc=\"best\")\n"
   ]
  },
  {
   "cell_type": "code",
   "execution_count": null,
   "id": "a84d0106",
   "metadata": {},
   "outputs": [],
   "source": []
  }
 ],
 "metadata": {
  "kernelspec": {
   "display_name": "astrods_2",
   "language": "python",
   "name": "python3"
  },
  "language_info": {
   "codemirror_mode": {
    "name": "ipython",
    "version": 3
   },
   "file_extension": ".py",
   "mimetype": "text/x-python",
   "name": "python",
   "nbconvert_exporter": "python",
   "pygments_lexer": "ipython3",
   "version": "3.11.9"
  }
 },
 "nbformat": 4,
 "nbformat_minor": 5
}
